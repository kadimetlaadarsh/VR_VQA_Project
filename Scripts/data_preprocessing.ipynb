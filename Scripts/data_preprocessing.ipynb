{
 "cells": [
  {
   "cell_type": "code",
   "execution_count": null,
   "id": "2451533a",
   "metadata": {
    "vscode": {
     "languageId": "plaintext"
    }
   },
   "outputs": [],
   "source": [
    "import numpy as np  # linear algebra\n",
    "import pandas as pd  # data processing, CSV file I/O (e.g. pd.read_csv)\n",
    "\n",
    "meta_file = \"/kaggle/input/abo-dataset/images/metadata/images.csv\"\n",
    "df = pd.read_csv(meta_file)\n",
    "\n",
    "print(df)"
   ]
  },
  {
   "cell_type": "code",
   "execution_count": null,
   "id": "656abf7d",
   "metadata": {
    "vscode": {
     "languageId": "plaintext"
    }
   },
   "outputs": [],
   "source": [
    "import pandas as pd\n",
    "\n",
    "images_df = pd.read_csv('/kaggle/input/abo-dataset/images/metadata/images.csv')\n"
   ]
  },
  {
   "cell_type": "code",
   "execution_count": null,
   "metadata": {
    "vscode": {
     "languageId": "plaintext"
    }
   },
   "outputs": [],
   "source": [
    "import glob\n",
    "import json\n",
    "\n",
    "json_files = glob.glob('/kaggle/input/listings-images/listings_*.json')\n",
    "metadata_records = []\n",
    "\n",
    "for file in json_files:\n",
    "    with open(file, 'r', encoding='utf-8') as f:\n",
    "        for line in f:\n",
    "            record = json.loads(line)\n",
    "            # Match main_image_id\n",
    "            if 'main_image_id' in record:\n",
    "                metadata_records.append({\n",
    "                    'image_id': record['main_image_id'],\n",
    "                    'metadata': record\n",
    "                })\n",
    "            # Match each other_image_id\n",
    "            if 'other_image_id' in record:\n",
    "                for oid in record['other_image_id']:\n",
    "                    metadata_records.append({\n",
    "                        'image_id': oid,\n",
    "                        'metadata': record\n",
    "                    })\n",
    "\n",
    "metadata_df = pd.DataFrame(metadata_records)\n"
   ]
  },
  {
   "cell_type": "code",
   "execution_count": null,
   "id": "ff901e16",
   "metadata": {
    "vscode": {
     "languageId": "plaintext"
    }
   },
   "outputs": [],
   "source": [
    "metadata_df = metadata_df.drop_duplicates(subset=['image_id'])\n"
   ]
  },
  {
   "cell_type": "code",
   "execution_count": null,
   "id": "6461d0e2",
   "metadata": {
    "vscode": {
     "languageId": "plaintext"
    }
   },
   "outputs": [],
   "source": [
    "merged_df = images_df.merge(metadata_df, how='left', on='image_id')\n"
   ]
  },
  {
   "cell_type": "code",
   "execution_count": null,
   "id": "144730ce",
   "metadata": {
    "vscode": {
     "languageId": "plaintext"
    }
   },
   "outputs": [],
   "source": [
    "def extract_metadata_fields(meta):\n",
    "    # Helper to get first value from a list of dicts, or None\n",
    "    def get_first(meta, key, subkey='value'):\n",
    "        try:\n",
    "            if isinstance(meta.get(key), list) and meta[key]:\n",
    "                return meta[key][0].get(subkey)\n",
    "        except Exception:\n",
    "            pass\n",
    "        return None\n",
    "\n",
    "    # Helper for bullet_point and item_keywords: join all values\n",
    "    def get_all(meta, key):\n",
    "        try:\n",
    "            if isinstance(meta.get(key), list):\n",
    "                return '^'.join([str(d.get('value')) for d in meta[key] if 'value' in d])\n",
    "        except Exception:\n",
    "            pass\n",
    "        return None\n",
    "\n",
    "    # Helper for node_name: join all node_names if multiple\n",
    "    def get_node_names(meta):\n",
    "        try:\n",
    "            if isinstance(meta.get('node'), list):\n",
    "                return '^'.join([str(d.get('node_name')) for d in meta['node'] if 'node_name' in d])\n",
    "        except Exception:\n",
    "            pass\n",
    "        return None\n",
    "\n",
    "    return pd.Series({\n",
    "        'color': get_first(meta, 'color'),\n",
    "        'product_type': get_first(meta, 'product_type'),\n",
    "        'item_name': get_first(meta, 'item_name'),\n",
    "        'bullet_point': get_all(meta, 'bullet_point'),\n",
    "        'item_keywords': get_all(meta, 'item_keywords'),\n",
    "        'node_name': get_node_names(meta)\n",
    "    })\n"
   ]
  },
  {
   "cell_type": "code",
   "execution_count": null,
   "id": "5e20e331",
   "metadata": {
    "vscode": {
     "languageId": "plaintext"
    }
   },
   "outputs": [],
   "source": [
    "extracted = merged_df['metadata'].apply(extract_metadata_fields)\n",
    "final_df = pd.concat([merged_df, extracted], axis=1)\n"
   ]
  },
  {
   "cell_type": "code",
   "execution_count": null,
   "id": "aa7297af",
   "metadata": {
    "vscode": {
     "languageId": "plaintext"
    }
   },
   "outputs": [],
   "source": [
    "print(final_df[['color', 'product_type', 'item_name', 'bullet_point', 'item_keywords', 'node_name']].head())\n"
   ]
  },
  {
   "cell_type": "code",
   "execution_count": null,
   "id": "3d1e465e",
   "metadata": {
    "vscode": {
     "languageId": "plaintext"
    }
   },
   "outputs": [],
   "source": [
    "changed_final_df = final_df.drop(columns=['metadata'])\n"
   ]
  },
  {
   "cell_type": "code",
   "execution_count": null,
   "id": "a43d6de9",
   "metadata": {
    "vscode": {
     "languageId": "plaintext"
    }
   },
   "outputs": [],
   "source": [
    "com_df = pd.read_csv('/kaggle/input/merged-one/merged_vqa_dataset_output.csv')\n",
    "com_df"
   ]
  },
  {
   "cell_type": "code",
   "execution_count": null,
   "id": "fa4d846b",
   "metadata": {
    "vscode": {
     "languageId": "plaintext"
    }
   },
   "outputs": [],
   "source": []
  }
 ],
 "metadata": {
  "language_info": {
   "name": "python"
  }
 },
 "nbformat": 4,
 "nbformat_minor": 5
}
